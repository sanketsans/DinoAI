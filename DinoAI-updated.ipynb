{
 "cells": [
  {
   "cell_type": "code",
   "execution_count": 1,
   "metadata": {
    "scrolled": true
   },
   "outputs": [
    {
     "name": "stdout",
     "output_type": "stream",
     "text": [
      "pygame 1.9.6\n",
      "Hello from the pygame community. https://www.pygame.org/contribute.html\n"
     ]
    },
    {
     "data": {
      "text/plain": [
       "device(type='cpu')"
      ]
     },
     "execution_count": 1,
     "metadata": {},
     "output_type": "execute_result"
    }
   ],
   "source": [
    "import torch\n",
    "import torch.nn as nn\n",
    "import torch.nn.functional as F\n",
    "import os\n",
    "import numpy as np\n",
    "import random\n",
    "import copy\n",
    "import sys\n",
    "import pygame\n",
    "import random\n",
    "from pygame import *\n",
    "import numpy as np\n",
    "from main import DinoGameEnv\n",
    "import matplotlib.pyplot as plt\n",
    "from agent import Agent\n",
    "from model import Model\n",
    "from collections import deque\n",
    "%matplotlib inline\n",
    "\n",
    "# device = torch.device('cuda:0' if torch.cuda.is_available() else 'cpu')\n",
    "device = torch.device('cpu')\n",
    "device"
   ]
  },
  {
   "cell_type": "code",
   "execution_count": 2,
   "metadata": {},
   "outputs": [],
   "source": [
    "os.chdir('/home/sans/Music/DinoAI')"
   ]
  },
  {
   "cell_type": "code",
   "execution_count": 3,
   "metadata": {},
   "outputs": [],
   "source": [
    "env = DinoGameEnv()"
   ]
  },
  {
   "cell_type": "code",
   "execution_count": 5,
   "metadata": {},
   "outputs": [
    {
     "name": "stdout",
     "output_type": "stream",
     "text": [
      "[ 1. 23. 25.  0.  1.]\n",
      "[ 1. 16. 25.  0.  1.]\n",
      "[ 1. 10. 25.  0.  1.]\n",
      "[ 1. 10. 25.  0.  1.]\n",
      "[ 1. 10. 25.  0.  1.]\n",
      "[ 1.  3. 25.  0.  1.]\n",
      "[ 1.  3. 25.  0.  1.]\n",
      "[ 1.  2. 25.  0.  0.]\n",
      "[ 1. 25. 25.  0.  0.]\n",
      "[ 1. 15. 25.  0.  0.]\n"
     ]
    }
   ],
   "source": [
    "env = DinoGameEnv()\n",
    "states = env.reset()\n",
    "env.allow_rendering = True\n",
    "scores = 0\n",
    "for i in range(10):\n",
    "    action = np.random.choice(np.arange(0,4))\n",
    "    S_, R, done = env.step(action)\n",
    "    print(S_)\n",
    "    scores += R\n",
    "    \n",
    "    if done:\n",
    "        print('Max scores: ', scores)\n",
    "        states = env.reset()\n",
    "        scores = 0\n",
    "        \n",
    "    if i == 9:\n",
    "        env.close()\n",
    "        break"
   ]
  },
  {
   "cell_type": "code",
   "execution_count": 4,
   "metadata": {},
   "outputs": [],
   "source": [
    "agent = Agent(5, 2)\n",
    "agent.epsilon = 1.0"
   ]
  },
  {
   "cell_type": "code",
   "execution_count": 6,
   "metadata": {},
   "outputs": [],
   "source": [
    "def dqn():\n",
    "    scores_deque = deque(maxlen=100)\n",
    "    scores = []\n",
    "    n_episodes = 5000\n",
    "    env.allow_rendering = True\n",
    "    i = 1\n",
    "    for episode in range(n_episodes):\n",
    "        state = env.reset()\n",
    "        done = False\n",
    "        score = 0\n",
    "        while not done:\n",
    "            action = agent.act(state)\n",
    "#             print(action)\n",
    "#             action = np.random.choice(np.arange(0,4))\n",
    "            new_state, reward, done = env.step(action)\n",
    "            agent.step(state, action, reward, new_state, done)\n",
    "            state = new_state\n",
    "            score += reward\n",
    "            if done:\n",
    "                break\n",
    "                \n",
    "        scores_deque.append(score)\n",
    "        scores.append(score)\n",
    "        \n",
    "        print('\\rEpisode {}\\tAverage Score: {:.2f}\\tReward: {}\\t '.format(episode, np.mean(scores_deque), score), end=\"\")\n",
    "            \n",
    "        if np.mean(scores_deque) > 50*i:\n",
    "            print('Saving environment at scores {}'.format(np.mean(scores_deque)))\n",
    "            torch.save(agent.local_nn.state_dict(), 'checkpoint' + '_update_' + str(50*i) + '.pth')\n",
    "            \n",
    "            i += 1\n",
    "        if np.mean(scores_deque)>=1000.0:\n",
    "            print('\\nEnvironment solved in {:d} episodes!\\tAverage Score: {:.2f}'.format(episode, np.mean(scores_deque)))\n",
    "            torch.save(agent.local_nn.state_dict(), 'checkpoint.pth')\n",
    "            break\n",
    "            \n",
    "    return scores\n",
    "            "
   ]
  },
  {
   "cell_type": "code",
   "execution_count": 7,
   "metadata": {
    "scrolled": true
   },
   "outputs": [
    {
     "name": "stdout",
     "output_type": "stream",
     "text": [
      "Episode 39\tAverage Score: 67.33\tReward: 1510\t Saving environment at scores 67.325\n",
      "Episode 40\tAverage Score: 101.12\tReward: 1453\t Saving environment at scores 101.1219512195122\n",
      "Episode 49\tAverage Score: 167.02\tReward: 2115\t Saving environment at scores 167.02\n",
      "Episode 62\tAverage Score: 214.68\tReward: 1860\t Saving environment at scores 214.68253968253967\n",
      "Episode 67\tAverage Score: 252.43\tReward: 1845\t Saving environment at scores 252.4264705882353\n",
      "Episode 71\tAverage Score: 304.46\tReward: 2989\t Saving environment at scores 304.4583333333333\n",
      "Episode 83\tAverage Score: 359.20\tReward: 1597\t Saving environment at scores 359.20238095238096\n",
      "Episode 89\tAverage Score: 416.80\tReward: 2658\t Saving environment at scores 416.8\n",
      "Episode 95\tAverage Score: 463.58\tReward: 2661\t Saving environment at scores 463.5833333333333\n",
      "Episode 101\tAverage Score: 511.41\tReward: 2081\t Saving environment at scores 511.41\n",
      "Episode 108\tAverage Score: 559.14\tReward: 1746\t Saving environment at scores 559.14\n",
      "Episode 112\tAverage Score: 610.49\tReward: 2107\t Saving environment at scores 610.49\n",
      "Episode 120\tAverage Score: 652.22\tReward: 1280\t Saving environment at scores 652.22\n",
      "Episode 124\tAverage Score: 706.07\tReward: 1300\t Saving environment at scores 706.07\n",
      "Episode 127\tAverage Score: 753.41\tReward: 1872\t Saving environment at scores 753.41\n",
      "Episode 134\tAverage Score: 805.77\tReward: 2355\t Saving environment at scores 805.77\n",
      "Episode 152\tAverage Score: 863.19\tReward: 2239\t Saving environment at scores 863.19\n",
      "Episode 180\tAverage Score: 915.07\tReward: 2047\t Saving environment at scores 915.07\n",
      "Episode 325\tAverage Score: 160.51\tReward: -95\t  "
     ]
    },
    {
     "ename": "KeyboardInterrupt",
     "evalue": "",
     "output_type": "error",
     "traceback": [
      "\u001b[0;31m---------------------------------------------------------------------------\u001b[0m",
      "\u001b[0;31mKeyboardInterrupt\u001b[0m                         Traceback (most recent call last)",
      "\u001b[0;32m<ipython-input-7-5f7900951bab>\u001b[0m in \u001b[0;36m<module>\u001b[0;34m\u001b[0m\n\u001b[0;32m----> 1\u001b[0;31m \u001b[0mtotal_scores\u001b[0m \u001b[0;34m=\u001b[0m \u001b[0mdqn\u001b[0m\u001b[0;34m(\u001b[0m\u001b[0;34m)\u001b[0m\u001b[0;34m\u001b[0m\u001b[0;34m\u001b[0m\u001b[0m\n\u001b[0m",
      "\u001b[0;32m<ipython-input-6-5e791735aec4>\u001b[0m in \u001b[0;36mdqn\u001b[0;34m()\u001b[0m\n\u001b[1;32m     13\u001b[0m \u001b[0;31m#             print(action)\u001b[0m\u001b[0;34m\u001b[0m\u001b[0;34m\u001b[0m\u001b[0;34m\u001b[0m\u001b[0m\n\u001b[1;32m     14\u001b[0m \u001b[0;31m#             action = np.random.choice(np.arange(0,4))\u001b[0m\u001b[0;34m\u001b[0m\u001b[0;34m\u001b[0m\u001b[0;34m\u001b[0m\u001b[0m\n\u001b[0;32m---> 15\u001b[0;31m             \u001b[0mnew_state\u001b[0m\u001b[0;34m,\u001b[0m \u001b[0mreward\u001b[0m\u001b[0;34m,\u001b[0m \u001b[0mdone\u001b[0m \u001b[0;34m=\u001b[0m \u001b[0menv\u001b[0m\u001b[0;34m.\u001b[0m\u001b[0mstep\u001b[0m\u001b[0;34m(\u001b[0m\u001b[0maction\u001b[0m\u001b[0;34m)\u001b[0m\u001b[0;34m\u001b[0m\u001b[0;34m\u001b[0m\u001b[0m\n\u001b[0m\u001b[1;32m     16\u001b[0m             \u001b[0magent\u001b[0m\u001b[0;34m.\u001b[0m\u001b[0mstep\u001b[0m\u001b[0;34m(\u001b[0m\u001b[0mstate\u001b[0m\u001b[0;34m,\u001b[0m \u001b[0maction\u001b[0m\u001b[0;34m,\u001b[0m \u001b[0mreward\u001b[0m\u001b[0;34m,\u001b[0m \u001b[0mnew_state\u001b[0m\u001b[0;34m,\u001b[0m \u001b[0mdone\u001b[0m\u001b[0;34m)\u001b[0m\u001b[0;34m\u001b[0m\u001b[0;34m\u001b[0m\u001b[0m\n\u001b[1;32m     17\u001b[0m             \u001b[0mstate\u001b[0m \u001b[0;34m=\u001b[0m \u001b[0mnew_state\u001b[0m\u001b[0;34m\u001b[0m\u001b[0;34m\u001b[0m\u001b[0m\n",
      "\u001b[0;32m~/Music/DinoAI/main.py\u001b[0m in \u001b[0;36mstep\u001b[0;34m(self, action)\u001b[0m\n\u001b[1;32m    260\u001b[0m                     \u001b[0;31m# self.t_reward -= 36\u001b[0m\u001b[0;34m\u001b[0m\u001b[0;34m\u001b[0m\u001b[0;34m\u001b[0m\u001b[0m\n\u001b[1;32m    261\u001b[0m                 \u001b[0;32mwhile\u001b[0m \u001b[0;32mTrue\u001b[0m\u001b[0;34m:\u001b[0m\u001b[0;34m\u001b[0m\u001b[0;34m\u001b[0m\u001b[0m\n\u001b[0;32m--> 262\u001b[0;31m                     \u001b[0mself\u001b[0m\u001b[0;34m.\u001b[0m\u001b[0mplay\u001b[0m\u001b[0;34m(\u001b[0m\u001b[0;34m)\u001b[0m\u001b[0;34m\u001b[0m\u001b[0;34m\u001b[0m\u001b[0m\n\u001b[0m\u001b[1;32m    263\u001b[0m                     \u001b[0;32mif\u001b[0m \u001b[0mself\u001b[0m\u001b[0;34m.\u001b[0m\u001b[0maction_complete\u001b[0m \u001b[0;34m:\u001b[0m\u001b[0;34m\u001b[0m\u001b[0;34m\u001b[0m\u001b[0m\n\u001b[1;32m    264\u001b[0m                         \u001b[0mself\u001b[0m\u001b[0;34m.\u001b[0m\u001b[0maction_complete\u001b[0m \u001b[0;34m=\u001b[0m \u001b[0;32mFalse\u001b[0m\u001b[0;34m\u001b[0m\u001b[0;34m\u001b[0m\u001b[0m\n",
      "\u001b[0;32m~/Music/DinoAI/main.py\u001b[0m in \u001b[0;36mplay\u001b[0;34m(self)\u001b[0m\n\u001b[1;32m    229\u001b[0m             \u001b[0mself\u001b[0m\u001b[0;34m.\u001b[0m\u001b[0mrender\u001b[0m\u001b[0;34m(\u001b[0m\u001b[0;34m)\u001b[0m\u001b[0;34m\u001b[0m\u001b[0;34m\u001b[0m\u001b[0m\n\u001b[1;32m    230\u001b[0m \u001b[0;34m\u001b[0m\u001b[0m\n\u001b[0;32m--> 231\u001b[0;31m         \u001b[0mself\u001b[0m\u001b[0;34m.\u001b[0m\u001b[0mclock\u001b[0m\u001b[0;34m.\u001b[0m\u001b[0mtick\u001b[0m\u001b[0;34m(\u001b[0m\u001b[0mself\u001b[0m\u001b[0;34m.\u001b[0m\u001b[0mFPS\u001b[0m\u001b[0;34m)\u001b[0m\u001b[0;34m\u001b[0m\u001b[0;34m\u001b[0m\u001b[0m\n\u001b[0m\u001b[1;32m    232\u001b[0m \u001b[0;34m\u001b[0m\u001b[0m\n\u001b[1;32m    233\u001b[0m         \u001b[0;32mif\u001b[0m \u001b[0mself\u001b[0m\u001b[0;34m.\u001b[0m\u001b[0mplayerDino\u001b[0m\u001b[0;34m.\u001b[0m\u001b[0misDead\u001b[0m\u001b[0;34m:\u001b[0m\u001b[0;34m\u001b[0m\u001b[0;34m\u001b[0m\u001b[0m\n",
      "\u001b[0;31mKeyboardInterrupt\u001b[0m: "
     ]
    }
   ],
   "source": [
    "total_scores = dqn()"
   ]
  },
  {
   "cell_type": "code",
   "execution_count": 12,
   "metadata": {},
   "outputs": [
    {
     "name": "stdout",
     "output_type": "stream",
     "text": [
      "26\n"
     ]
    }
   ],
   "source": [
    "agent.local_nn.load_state_dict(torch.load('checkpoint_400.pth'))\n",
    "\n",
    "state = env.reset()\n",
    "env.allow_rendering = True\n",
    "score = 0\n",
    "done = False\n",
    "agent.local_nn.eval()\n",
    "agent.epsilon = 0.005\n",
    "agent.local_nn.eval()\n",
    "while not done:\n",
    "    action = agent.act(state)\n",
    "    new_state, reward, done = env.step(action)\n",
    "#     agent.step(state, action, reward, new_state, done)\n",
    "    state = new_state\n",
    "    score += reward\n",
    "    if done:\n",
    "        print(score)\n",
    "        break\n",
    "        "
   ]
  },
  {
   "cell_type": "code",
   "execution_count": 9,
   "metadata": {},
   "outputs": [],
   "source": [
    "env.close()"
   ]
  },
  {
   "cell_type": "code",
   "execution_count": null,
   "metadata": {},
   "outputs": [],
   "source": [
    "env.step(1)"
   ]
  }
 ],
 "metadata": {
  "kernelspec": {
   "display_name": "Python 3",
   "language": "python",
   "name": "python3"
  },
  "language_info": {
   "codemirror_mode": {
    "name": "ipython",
    "version": 3
   },
   "file_extension": ".py",
   "mimetype": "text/x-python",
   "name": "python",
   "nbconvert_exporter": "python",
   "pygments_lexer": "ipython3",
   "version": "3.6.9"
  }
 },
 "nbformat": 4,
 "nbformat_minor": 4
}
