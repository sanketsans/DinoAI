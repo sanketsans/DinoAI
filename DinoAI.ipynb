{
 "cells": [
  {
   "cell_type": "code",
   "execution_count": 1,
   "metadata": {
    "scrolled": true
   },
   "outputs": [
    {
     "name": "stdout",
     "output_type": "stream",
     "text": [
      "pygame 1.9.6\n",
      "Hello from the pygame community. https://www.pygame.org/contribute.html\n"
     ]
    },
    {
     "data": {
      "text/plain": [
       "device(type='cpu')"
      ]
     },
     "execution_count": 1,
     "metadata": {},
     "output_type": "execute_result"
    }
   ],
   "source": [
    "import torch\n",
    "import torch.nn as nn\n",
    "import torch.nn.functional as F\n",
    "import os\n",
    "import numpy as np\n",
    "import random\n",
    "import copy\n",
    "import sys\n",
    "import pygame\n",
    "import random\n",
    "from pygame import *\n",
    "import numpy as np\n",
    "from main import DinoGameEnv\n",
    "import matplotlib.pyplot as plt\n",
    "from agent import Agent\n",
    "from model import Model\n",
    "from collections import deque\n",
    "%matplotlib inline\n",
    "\n",
    "# device = torch.device('cuda:0' if torch.cuda.is_available() else 'cpu')\n",
    "device = torch.device('cpu')\n",
    "device"
   ]
  },
  {
   "cell_type": "code",
   "execution_count": 2,
   "metadata": {},
   "outputs": [],
   "source": [
    "os.chdir('/home/sans/Music/DinoAI')"
   ]
  },
  {
   "cell_type": "code",
   "execution_count": 3,
   "metadata": {},
   "outputs": [],
   "source": [
    "env = DinoGameEnv()"
   ]
  },
  {
   "cell_type": "code",
   "execution_count": 6,
   "metadata": {},
   "outputs": [
    {
     "name": "stdout",
     "output_type": "stream",
     "text": [
      "[  1.  71. 100.   0.   1.]\n",
      "[  1.  44. 100.   0.   1.]\n",
      "[  1.  43. 100.   0.   1.]\n",
      "[  1.  42. 100.   0.   1.]\n",
      "[ 1. 15. 91.  0.  1.]\n",
      "[ 1. 14. 90.  0.  1.]\n",
      "[ 1. 12. 89.  0.  0.]\n",
      "[  1.  62. 100.   0.   0.]\n",
      "[ 1. 34. 88.  0.  0.]\n",
      "[ 1.  7. 61.  0.  0.]\n"
     ]
    }
   ],
   "source": [
    "env = DinoGameEnv()\n",
    "states = env.reset()\n",
    "env.allow_rendering = True\n",
    "scores = 0\n",
    "for i in range(10):\n",
    "    action = np.random.choice(np.arange(0,4))\n",
    "    S_, R, done = env.step(action)\n",
    "    print(S_)\n",
    "    scores += R\n",
    "    \n",
    "    if done:\n",
    "        print('Max scores: ', scores)\n",
    "        states = env.reset()\n",
    "        scores = 0\n",
    "        \n",
    "    if i == 9:\n",
    "        env.close()\n",
    "        break"
   ]
  },
  {
   "cell_type": "code",
   "execution_count": 4,
   "metadata": {},
   "outputs": [],
   "source": [
    "agent = Agent(5, 3)\n",
    "agent.epsilon = 1.0"
   ]
  },
  {
   "cell_type": "code",
   "execution_count": 5,
   "metadata": {},
   "outputs": [],
   "source": [
    "def dqn():\n",
    "    scores_deque = deque(maxlen=100)\n",
    "    scores = []\n",
    "    n_episodes = 5000\n",
    "    env.allow_rendering = True\n",
    "    i = 1\n",
    "    for episode in range(n_episodes):\n",
    "        state = env.reset()\n",
    "        done = False\n",
    "        score = 0\n",
    "        while not done:\n",
    "            action = agent.act(state)\n",
    "#             action = np.random.choice(np.arange(0,4))\n",
    "            new_state, reward, done = env.step(action)\n",
    "            agent.step(state, action, reward, new_state, done)\n",
    "            state = new_state\n",
    "            score += reward\n",
    "            if done:\n",
    "                break\n",
    "                \n",
    "        scores_deque.append(score)\n",
    "        scores.append(score)\n",
    "        \n",
    "        print('\\rEpisode {}\\tAverage Score: {:.2f}\\tReward: {}\\t '.format(episode, np.mean(scores_deque), score), end=\"\")\n",
    "            \n",
    "        if np.mean(scores_deque) > 50*i:\n",
    "            print('Saving environment at scores {}'.format(np.mean(scores_deque)))\n",
    "            torch.save(agent.local_nn.state_dict(), 'checkpoint' + '_' + str(50*i) + '.pth')\n",
    "            \n",
    "            i += 1\n",
    "        if np.mean(scores_deque)>=1000.0:\n",
    "            print('\\nEnvironment solved in {:d} episodes!\\tAverage Score: {:.2f}'.format(episode, np.mean(scores_deque)))\n",
    "            torch.save(agent.local_nn.state_dict(), 'checkpoint.pth')\n",
    "            break\n",
    "            "
   ]
  },
  {
   "cell_type": "code",
   "execution_count": null,
   "metadata": {
    "scrolled": true
   },
   "outputs": [
    {
     "name": "stdout",
     "output_type": "stream",
     "text": [
      "Episode 72\tAverage Score: 51.04\tReward: 906\t Saving environment at scores 51.04109589041096\n",
      "Episode 93\tAverage Score: 106.80\tReward: 1044\t Saving environment at scores 106.79787234042553\n",
      "Episode 205\tAverage Score: -10.53\tReward: -51\t "
     ]
    }
   ],
   "source": [
    "dqn()"
   ]
  },
  {
   "cell_type": "code",
   "execution_count": 12,
   "metadata": {},
   "outputs": [
    {
     "name": "stdout",
     "output_type": "stream",
     "text": [
      "26\n"
     ]
    }
   ],
   "source": [
    "agent.local_nn.load_state_dict(torch.load('checkpoint_400.pth'))\n",
    "\n",
    "state = env.reset()\n",
    "env.allow_rendering = True\n",
    "score = 0\n",
    "done = False\n",
    "agent.local_nn.eval()\n",
    "agent.epsilon = 0.005\n",
    "agent.local_nn.eval()\n",
    "while not done:\n",
    "    action = agent.act(state)\n",
    "    new_state, reward, done = env.step(action)\n",
    "#     agent.step(state, action, reward, new_state, done)\n",
    "    state = new_state\n",
    "    score += reward\n",
    "    if done:\n",
    "        print(score)\n",
    "        break\n",
    "        "
   ]
  },
  {
   "cell_type": "code",
   "execution_count": null,
   "metadata": {},
   "outputs": [],
   "source": []
  }
 ],
 "metadata": {
  "kernelspec": {
   "display_name": "Python 3",
   "language": "python",
   "name": "python3"
  },
  "language_info": {
   "codemirror_mode": {
    "name": "ipython",
    "version": 3
   },
   "file_extension": ".py",
   "mimetype": "text/x-python",
   "name": "python",
   "nbconvert_exporter": "python",
   "pygments_lexer": "ipython3",
   "version": "3.6.8"
  }
 },
 "nbformat": 4,
 "nbformat_minor": 4
}
